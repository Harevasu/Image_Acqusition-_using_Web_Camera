{
 "cells": [
  {
   "cell_type": "code",
   "execution_count": 9,
   "id": "fcdeea41-6063-4182-9cf9-e5c18b8c698b",
   "metadata": {},
   "outputs": [],
   "source": [
    "## i) Write the frame as JPG file\n",
    "\n",
    "import cv2\n",
    "obj = cv2.VideoCapture(0)\n",
    "fame = 0\n",
    "while fame<5:\n",
    "    cap,frame = obj.read()\n",
    "    if not cap:\n",
    "        break\n",
    "    cv2.imshow('video',frame)\n",
    "    cv2.imwrite(f'picture{fame}.jpg',frame)\n",
    "    if cv2.waitKey(1) == ord('q'):\n",
    "        break\n",
    "    fame+=1\n",
    "obj.release()\n",
    "cv2.destroyAllWindows()\n"
   ]
  },
  {
   "cell_type": "code",
   "execution_count": 10,
   "id": "fe0b3889-944a-46ad-a3d9-a73d53e256a1",
   "metadata": {},
   "outputs": [],
   "source": [
    "## ii) Display the video\n",
    "\n",
    "img = cv2.VideoCapture(0)\n",
    "while True:\n",
    "    image,frame = img.read()\n",
    "    cv2.imshow('pic',frame) \n",
    "    if cv2.waitKey(1)==ord('q'):\n",
    "        break\n",
    "img.release()\n",
    "cv2.destroyAllWindows()\n"
   ]
  },
  {
   "cell_type": "code",
   "execution_count": 1,
   "id": "2c1ac3a0-a372-412b-b3e0-ed07851d9682",
   "metadata": {},
   "outputs": [],
   "source": [
    "\n",
    "\n",
    "\n",
    "## iii) Display the video by resizing the window\n",
    "\n",
    "import numpy as np\n",
    "capture = cv2.VideoCapture(0)\n",
    "while True:\n",
    "    ret,frame=capture.read()\n",
    "    if not ret:\n",
    "        break\n",
    "    height,width = frame.shape[:2]\n",
    "    smaller_frame=cv2.resize(frame,(width//2,height//2))\n",
    "    image = np.zeros((height,width,3),dtype=np.uint8)\n",
    "    image[:height//2,:width//2]=smaller_frame\n",
    "    image[height//2:, :width//2]=smaller_frame\n",
    "    image[:height//2, width//2:]=smaller_frame\n",
    "    image[height//2:, width//2:]=smaller_frame\n",
    "\n",
    "    cv2.imshow('PIC',smaller_frame)\n",
    "    \n",
    "    if cv2.waitKey(1)==ord('q'):\n",
    "        break\n",
    "capture.release()\n",
    "cv2.destroyAllWindows()\n",
    "\n"
   ]
  },
  {
   "cell_type": "code",
   "execution_count": null,
   "id": "9911f841-f7c5-42af-8046-338184f65e01",
   "metadata": {},
   "outputs": [],
   "source": [
    "## iv) Rotate and display the video\n",
    "\n",
    "capture = cv2.VideoCapture(0)\n",
    "while True:\n",
    "    ret,frame=capture.read()\n",
    "    if not ret:\n",
    "        break\n",
    "    height,width = frame.shape[:2]\n",
    "    smaller_frame = cv2.resize(frame,(width//2,height//2))\n",
    "    image = np.zeros((height,width,3),dtype=np.uint8)\n",
    "\n",
    "    image[:height//2,:width//2]=cv2.rotate(smaller_frame,cv2.ROTATE_180)\n",
    "    image[height//2:, :width//2]=smaller_frame\n",
    "    image[:height//2, width//2:]=smaller_frame\n",
    "    image[height//2:, width//2:]=cv2.rotate(smaller_frame,cv2.ROTATE_180)\n",
    "    \n",
    "    cv2.imshow('ROTATE_PIC',image)\n",
    "    if cv2.waitKey(1) == ord('q'):\n",
    "        break\n",
    "capture.release()\n",
    "cv2.destroyAllWindows()\n"
   ]
  }
 ],
 "metadata": {
  "kernelspec": {
   "display_name": "Python 3 (ipykernel)",
   "language": "python",
   "name": "python3"
  },
  "language_info": {
   "codemirror_mode": {
    "name": "ipython",
    "version": 3
   },
   "file_extension": ".py",
   "mimetype": "text/x-python",
   "name": "python",
   "nbconvert_exporter": "python",
   "pygments_lexer": "ipython3",
   "version": "3.12.7"
  }
 },
 "nbformat": 4,
 "nbformat_minor": 5
}
